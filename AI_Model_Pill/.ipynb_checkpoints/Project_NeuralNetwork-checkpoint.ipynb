{
 "cells": [
  {
   "cell_type": "markdown",
   "metadata": {},
   "source": [
    "# The code is split into different parts:\n",
    "#### 1. Data handling \n",
    "#### 2. Tablet Hardness\n",
    "#### 3. Tablet Height\n",
    "#### 4. Tablet Friability\n",
    "#### 5. Output of all the plots"
   ]
  },
  {
   "cell_type": "code",
   "execution_count": null,
   "metadata": {
    "vscode": {
     "languageId": "plaintext"
    }
   },
   "outputs": [],
   "source": [
    "# Imports\n",
    "import pandas as pd\n",
    "import numpy as np\n",
    "from sklearn.model_selection import train_test_split\n",
    "from sklearn.preprocessing import StandardScaler\n",
    "from sklearn.metrics import root_mean_squared_error, r2_score\n",
    "from sklearn.metrics import mean_absolute_error\n",
    "\n",
    "from tensorflow.keras.models import Sequential\n",
    "from tensorflow.keras.layers import Dense\n",
    "from tensorflow.keras.optimizers import Adam\n",
    "\n",
    "\n",
    "import matplotlib.pyplot as plt"
   ]
  },
  {
   "cell_type": "code",
   "execution_count": null,
   "metadata": {
    "vscode": {
     "languageId": "plaintext"
    }
   },
   "outputs": [],
   "source": [
    "filepath = 'https://raw.githubusercontent.com/MrHexeberg/AI-medical-project/refs/heads/main/Tablet%20examination%20-%20Munka1.csv'\n",
    "\n",
    "df = pd.read_csv(filepath, skiprows = 1)\n",
    "df = df.drop('Measurement', axis = 1)\n",
    "\n",
    "df.head()"
   ]
  },
  {
   "cell_type": "code",
   "execution_count": null,
   "metadata": {
    "vscode": {
     "languageId": "plaintext"
    }
   },
   "outputs": [],
   "source": [
    "df.describe()"
   ]
  },
  {
   "cell_type": "code",
   "execution_count": null,
   "metadata": {
    "vscode": {
     "languageId": "plaintext"
    }
   },
   "outputs": [],
   "source": [
    "df.isnull().sum()"
   ]
  },
  {
   "cell_type": "code",
   "execution_count": null,
   "metadata": {
    "vscode": {
     "languageId": "plaintext"
    }
   },
   "outputs": [],
   "source": [
    "X = df[['Press Force (kg)', 'Motor Speed (tablets/min)', 'Particle Size (μm)']]\n",
    "y = df[['Tablet Hardness (N)',\t'Tablet Height (mm)',\t'Tablet Friability (%)']]"
   ]
  },
  {
   "cell_type": "code",
   "execution_count": null,
   "metadata": {
    "vscode": {
     "languageId": "plaintext"
    }
   },
   "outputs": [],
   "source": [
    "# Splitting the dataset into training and validation\n",
    "X_train, X_test, y_train, y_test = train_test_split(X, y, test_size=0.2, random_state=42)"
   ]
  },
  {
   "cell_type": "code",
   "execution_count": null,
   "metadata": {
    "vscode": {
     "languageId": "plaintext"
    }
   },
   "outputs": [],
   "source": [
    "# Scaling features\n",
    "scaler = StandardScaler()\n",
    "X_train_scaled = scaler.fit_transform(X_train)\n",
    "X_test_scaled = scaler.transform(X_test)"
   ]
  },
  {
   "cell_type": "markdown",
   "metadata": {},
   "source": [
    "# 2. Setup Tablet Hardness"
   ]
  },
  {
   "cell_type": "code",
   "execution_count": null,
   "metadata": {
    "vscode": {
     "languageId": "plaintext"
    }
   },
   "outputs": [],
   "source": [
    "# Model Hardness\n",
    "model_hardness = Sequential(\n",
    "    [\n",
    "        Dense(64, activation='relu', input_shape=(3,)),\n",
    "        Dense(32, activation='relu'),\n",
    "        Dense(16, activation='relu'),\n",
    "        Dense(1, activation = \"linear\")   # Output neuron\n",
    "    ]\n",
    ")\n"
   ]
  },
  {
   "cell_type": "code",
   "execution_count": null,
   "metadata": {
    "vscode": {
     "languageId": "plaintext"
    }
   },
   "outputs": [],
   "source": [
    "# Model Hardness\n",
    "model_hardness.compile(optimizer=Adam(learning_rate=0.1), loss='mse')"
   ]
  },
  {
   "cell_type": "code",
   "execution_count": null,
   "metadata": {
    "vscode": {
     "languageId": "plaintext"
    }
   },
   "outputs": [],
   "source": [
    "# Making two arrays of the y_train and y_test values for the tablet hardness\n",
    "y_train_hardness = np.array([x[0] for x in y_train.values])\n",
    "y_test_hardness = np.array([x[0] for x in y_test.values])"
   ]
  },
  {
   "cell_type": "markdown",
   "metadata": {},
   "source": [
    "### Training the model for Tablet Hardness"
   ]
  },
  {
   "cell_type": "code",
   "execution_count": null,
   "metadata": {
    "vscode": {
     "languageId": "plaintext"
    }
   },
   "outputs": [],
   "source": [
    "history_hardness = model_hardness.fit(X_train_scaled, y_train_hardness,\n",
    "                    epochs=100,\n",
    "                    batch_size=32,\n",
    "                    validation_split=0.2,\n",
    "                    verbose=1                    \n",
    "                    )"
   ]
  },
  {
   "cell_type": "code",
   "execution_count": null,
   "metadata": {
    "vscode": {
     "languageId": "plaintext"
    }
   },
   "outputs": [],
   "source": [
    "# Evaluation of the model for tablet hardness\n",
    "y_pred_hardness = model_hardness.predict(X_test_scaled)\n",
    "rmse_hardness = root_mean_squared_error(y_test_hardness, y_pred_hardness)\n",
    "r2_hardness = r2_score(y_test_hardness, y_pred_hardness)\n",
    "print('rmse: ', rmse_hardness)\n",
    "print('r2 score: ', r2_hardness)\n"
   ]
  },
  {
   "cell_type": "code",
   "execution_count": null,
   "metadata": {
    "vscode": {
     "languageId": "plaintext"
    }
   },
   "outputs": [],
   "source": [
    "# Visualizing\n",
    "plt.figure(figsize=(10,6))\n",
    "plt.plot(history_hardness.history['loss'], label = 'Training loss')\n",
    "plt.plot(history_hardness.history['val_loss'], label = 'Validation loss')\n",
    "plt.title('Model Training History Tablet Hardness')\n",
    "plt.xlabel('Epoch')\n",
    "plt.ylabel('Loss')\n",
    "plt.legend()\n",
    "plt.grid()"
   ]
  },
  {
   "cell_type": "code",
   "execution_count": null,
   "metadata": {
    "vscode": {
     "languageId": "plaintext"
    }
   },
   "outputs": [],
   "source": [
    "plt.figure(figsize=(10,6))\n",
    "col = 'Tablet Hardness (N)'\n",
    "plt.scatter(y_test[col], y_pred_hardness)\n",
    "plt.xlabel(f'Actual {col}')\n",
    "plt.ylabel(f'Predicted {col}')\n",
    "plt.title(f'{col}: Actual vs Predicted')\n",
    "plt.grid()"
   ]
  },
  {
   "cell_type": "markdown",
   "metadata": {},
   "source": [
    "# 3. Tablet Height"
   ]
  },
  {
   "cell_type": "code",
   "execution_count": null,
   "metadata": {
    "vscode": {
     "languageId": "plaintext"
    }
   },
   "outputs": [],
   "source": [
    "# Model Height\n",
    "model_height = Sequential(\n",
    "    [\n",
    "        Dense(64, activation='relu', input_shape=(3,)),\n",
    "        Dense(32, activation='relu'),\n",
    "        Dense(16, activation='relu'),\n",
    "        Dense(1, activation = \"linear\")   # Output neuron\n",
    "    ]\n",
    ")\n"
   ]
  },
  {
   "cell_type": "code",
   "execution_count": null,
   "metadata": {
    "vscode": {
     "languageId": "plaintext"
    }
   },
   "outputs": [],
   "source": [
    "# Model Height\n",
    "model_height.compile(optimizer=Adam(learning_rate=0.1), loss='mse')"
   ]
  },
  {
   "cell_type": "code",
   "execution_count": null,
   "metadata": {
    "vscode": {
     "languageId": "plaintext"
    }
   },
   "outputs": [],
   "source": [
    "# Making two arrays of the y_train and y_test values for the tablet height\n",
    "y_train_height = np.array([x[1] for x in y_train.values])\n",
    "y_test_height = np.array([x[1] for x in y_test.values])"
   ]
  },
  {
   "cell_type": "markdown",
   "metadata": {},
   "source": [
    "### Training the model for Tablet Height"
   ]
  },
  {
   "cell_type": "code",
   "execution_count": null,
   "metadata": {
    "vscode": {
     "languageId": "plaintext"
    }
   },
   "outputs": [],
   "source": [
    "history_height = model_height.fit(X_train_scaled, y_train_height,\n",
    "                    epochs=100,\n",
    "                    batch_size=32,\n",
    "                    validation_split=0.2,\n",
    "                    verbose=1                    \n",
    "                    )"
   ]
  },
  {
   "cell_type": "code",
   "execution_count": null,
   "metadata": {
    "vscode": {
     "languageId": "plaintext"
    }
   },
   "outputs": [],
   "source": [
    "# Evaluation of the model for tablet height\n",
    "y_pred_height = model_height.predict(X_test_scaled)\n",
    "rmse_height = root_mean_squared_error(y_test_height, y_pred_height)\n",
    "r2_height = r2_score(y_test_height, y_pred_height)\n",
    "print('rmse: ', rmse_height)\n",
    "print('r2 score: ', r2_height)\n"
   ]
  },
  {
   "cell_type": "code",
   "execution_count": null,
   "metadata": {
    "vscode": {
     "languageId": "plaintext"
    }
   },
   "outputs": [],
   "source": [
    "# Visualizing\n",
    "plt.figure(figsize=(10,6))\n",
    "plt.plot(history_height.history['loss'], label = 'Training loss')\n",
    "plt.plot(history_height.history['val_loss'], label = 'Validation loss')\n",
    "plt.title('Model Training History Tablet Height')\n",
    "plt.xlabel('Epoch')\n",
    "plt.ylabel('Loss')\n",
    "plt.legend()\n",
    "plt.grid()"
   ]
  },
  {
   "cell_type": "code",
   "execution_count": null,
   "metadata": {
    "vscode": {
     "languageId": "plaintext"
    }
   },
   "outputs": [],
   "source": [
    "plt.figure(figsize=(10,6))\n",
    "col = 'Tablet Height (mm)'\n",
    "plt.scatter(y_test[col], y_pred_height)\n",
    "plt.xlabel(f'Actual {col}')\n",
    "plt.ylabel(f'Predicted {col}')\n",
    "plt.title(f'{col}: Actual vs Predicted')\n",
    "plt.grid()"
   ]
  },
  {
   "cell_type": "code",
   "execution_count": null,
   "metadata": {
    "vscode": {
     "languageId": "plaintext"
    }
   },
   "outputs": [],
   "source": []
  },
  {
   "cell_type": "markdown",
   "metadata": {},
   "source": [
    "# Setup Tablet Friability"
   ]
  },
  {
   "cell_type": "code",
   "execution_count": null,
   "metadata": {
    "vscode": {
     "languageId": "plaintext"
    }
   },
   "outputs": [],
   "source": [
    "# Model Friability\n",
    "model_friability = Sequential(\n",
    "    [\n",
    "        Dense(64, activation='relu', input_shape=(3,)),\n",
    "        Dense(32, activation='relu'),\n",
    "        Dense(16, activation='relu'),\n",
    "        Dense(1, activation = \"linear\")   # Output neuron\n",
    "    ]\n",
    ")"
   ]
  },
  {
   "cell_type": "code",
   "execution_count": null,
   "metadata": {
    "vscode": {
     "languageId": "plaintext"
    }
   },
   "outputs": [],
   "source": [
    "model_friability.compile(optimizer=Adam(learning_rate=0.01), loss='mape')"
   ]
  },
  {
   "cell_type": "code",
   "execution_count": null,
   "metadata": {
    "vscode": {
     "languageId": "plaintext"
    }
   },
   "outputs": [],
   "source": [
    "scaling_factor = 10"
   ]
  },
  {
   "cell_type": "code",
   "execution_count": null,
   "metadata": {
    "vscode": {
     "languageId": "plaintext"
    }
   },
   "outputs": [],
   "source": [
    "# Making two arrays of the y_train and y_test values for the tablet friability\n",
    "y_train_friability = np.array([x[2] for x in y_train.values]) * scaling_factor\n",
    "y_test_friability = np.array([x[2] for x in y_test.values]) * scaling_factor"
   ]
  },
  {
   "cell_type": "markdown",
   "metadata": {},
   "source": [
    "### Training the model for Tablet Friability"
   ]
  },
  {
   "cell_type": "code",
   "execution_count": null,
   "metadata": {
    "vscode": {
     "languageId": "plaintext"
    }
   },
   "outputs": [],
   "source": [
    "history_friability = model_friability.fit(X_train_scaled, y_train_friability,\n",
    "                    epochs=100,\n",
    "                    batch_size=48,\n",
    "                    validation_split=0.2,\n",
    "                    verbose=1                    \n",
    "                    )"
   ]
  },
  {
   "cell_type": "code",
   "execution_count": null,
   "metadata": {
    "vscode": {
     "languageId": "plaintext"
    }
   },
   "outputs": [],
   "source": [
    "# Evaluation of the model for tablet friability\n",
    "y_pred_friability = model_friability.predict(X_test_scaled) / scaling_factor\n",
    "rmse_friability = root_mean_squared_error(y_test_friability, y_pred_friability)\n",
    "r2_friability = r2_score(y_test_friability, y_pred_friability)\n",
    "\n",
    "print('rmse: ', rmse_friability)\n",
    "print('r2 score: ', r2_friability)\n"
   ]
  },
  {
   "cell_type": "code",
   "execution_count": null,
   "metadata": {
    "vscode": {
     "languageId": "plaintext"
    }
   },
   "outputs": [],
   "source": [
    "# Visualizing\n",
    "plt.figure(figsize=(10,6))\n",
    "plt.plot(history_friability.history['loss'], label = 'Training loss')\n",
    "plt.plot(history_friability.history['val_loss'], label = 'Validation loss')\n",
    "plt.title('Model Training History Tablet Friability')\n",
    "plt.xlabel('Epoch')\n",
    "plt.ylabel('Loss')\n",
    "plt.legend()\n",
    "plt.grid()"
   ]
  },
  {
   "cell_type": "code",
   "execution_count": null,
   "metadata": {
    "vscode": {
     "languageId": "plaintext"
    }
   },
   "outputs": [],
   "source": [
    "plt.figure(figsize=(10,6))\n",
    "col = 'Tablet Friability (%)'\n",
    "plt.scatter(y_test[col], y_pred_friability)\n",
    "plt.xlabel(f'Actual {col}')\n",
    "plt.ylabel(f'Predicted {col}')\n",
    "plt.title(f'{col}: Actual vs Predicted')\n",
    "plt.grid()"
   ]
  },
  {
   "cell_type": "markdown",
   "metadata": {},
   "source": [
    "# Output of the models"
   ]
  },
  {
   "cell_type": "markdown",
   "metadata": {},
   "source": [
    "#### Making an array for each of the output parameters to store in a dataframe"
   ]
  },
  {
   "cell_type": "code",
   "execution_count": null,
   "metadata": {
    "vscode": {
     "languageId": "plaintext"
    }
   },
   "outputs": [],
   "source": [
    "hardness = np.zeros(len(y_pred_hardness))\n",
    "height = np.zeros(len(y_pred_height))\n",
    "friability = np.zeros(len(y_pred_friability))\n",
    "\n",
    "for i in range(0, len(y_pred_hardness)):\n",
    "    hardness[i] = y_pred_hardness[i][0]\n",
    "    height[i] = y_pred_height[i][0]\n",
    "    friability[i] = y_pred_friability[i][0]\n"
   ]
  },
  {
   "cell_type": "code",
   "execution_count": null,
   "metadata": {
    "vscode": {
     "languageId": "plaintext"
    }
   },
   "outputs": [],
   "source": [
    "pred_df = pd.DataFrame({'Tablet Hardness (N)': hardness,\n",
    "                          'Tablet Height (mm)': height,\n",
    "                          'Tablet Friability (%)': friability})\n",
    "\n",
    "pred_df"
   ]
  },
  {
   "cell_type": "code",
   "execution_count": null,
   "metadata": {
    "vscode": {
     "languageId": "plaintext"
    }
   },
   "outputs": [],
   "source": [
    "fig, ax = plt.subplots(1, 3, figsize=(18,5))\n",
    "for i, col in enumerate(y.columns):\n",
    "    # print(i, col)\n",
    "    ax[i].scatter(y_test[col], pred_df[col])\n",
    "    ax[i].set_xlabel(f'Actual {col}')\n",
    "    ax[i].set_ylabel(f'Predicted {col}')\n",
    "    ax[i].set_title(f'{col}: Actual vs Predicted')\n",
    "    ax[i].grid()\n",
    "plt.tight_layout()"
   ]
  },
  {
   "metadata": {
    "jupyter": {
     "is_executing": true
    }
   },
   "cell_type": "code",
   "source": [
    "#evaluate the model using the MEA medod\n",
    "mae_target1 = mean_absolute_error(y_test.iloc[:, 0], pred_df[:, 0])\n",
    "mae_target2 = mean_absolute_error(y_test.iloc[:, 1], pred_df[:, 1])\n",
    "mae_target3 = mean_absolute_error(y_test.iloc[:, 2], pred_df[:, 2])\n",
    "print(\"MAE Tablet Hardness (N):\", mae_target1,\"N\")\n",
    "print(\"MAE Tablet Height (mm):\", mae_target2,\"mm\")\n",
    "print(\"MAE Tablet Friability (%):\", mae_target3*100 , \" %\")"
   ],
   "outputs": [],
   "execution_count": null
  },
  {
   "cell_type": "code",
   "execution_count": null,
   "metadata": {
    "vscode": {
     "languageId": "plaintext"
    }
   },
   "outputs": [],
   "source": [
    "# Scores\n",
    "print('Scores:\\n')\n",
    "\n",
    "print('Tablet Hardness Scores:')\n",
    "print('rmse:', rmse_hardness)\n",
    "print('r2 score:', r2_hardness)\n",
    "\n",
    "print('\\nTablet Height')\n",
    "print('rmse:', rmse_height)\n",
    "print('r2 score:', r2_height)\n",
    "\n",
    "print('\\nTablet Friability')\n",
    "print('rmse:', rmse_friability)\n",
    "print('r2 score:', r2_friability)"
   ]
  }
 ],
 "metadata": {
  "language_info": {
   "name": "python"
  }
 },
 "nbformat": 4,
 "nbformat_minor": 2
}
