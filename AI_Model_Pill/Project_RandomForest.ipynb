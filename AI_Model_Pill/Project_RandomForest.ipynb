{
 "cells": [
  {
   "cell_type": "code",
   "execution_count": null,
   "metadata": {
    "vscode": {
     "languageId": "plaintext"
    }
   },
   "outputs": [],
   "source": [
    "# Imports\n",
    "import pandas as pd\n",
    "import numpy as np\n",
    "from sklearn.model_selection import train_test_split\n",
    "from sklearn.preprocessing import StandardScaler\n",
    "from sklearn.multioutput import MultiOutputRegressor\n",
    "from sklearn.ensemble import RandomForestRegressor\n",
    "from sklearn.metrics import root_mean_squared_error, r2_score\n",
    "\n",
    "import matplotlib.pyplot as plt"
   ]
  },
  {
   "cell_type": "code",
   "execution_count": null,
   "metadata": {
    "vscode": {
     "languageId": "plaintext"
    }
   },
   "outputs": [],
   "source": [
    "filepath = 'https://raw.githubusercontent.com/MrHexeberg/AI-medical-project/refs/heads/main/Tablet%20examination%20-%20Munka1.csv'\n",
    "\n",
    "data = pd.read_csv(filepath, skiprows = 1)\n",
    "data = data.drop('Measurement', axis = 1)\n",
    "\n",
    "data.head()"
   ]
  },
  {
   "cell_type": "code",
   "execution_count": null,
   "metadata": {
    "vscode": {
     "languageId": "plaintext"
    }
   },
   "outputs": [],
   "source": [
    "data.describe()"
   ]
  },
  {
   "cell_type": "code",
   "execution_count": null,
   "metadata": {
    "vscode": {
     "languageId": "plaintext"
    }
   },
   "outputs": [],
   "source": [
    "data.isnull().sum()"
   ]
  },
  {
   "cell_type": "code",
   "execution_count": null,
   "metadata": {
    "vscode": {
     "languageId": "plaintext"
    }
   },
   "outputs": [],
   "source": [
    "data[['Press Force (kg)', 'Motor Speed (tablets/min)', 'Particle Size (μm)']].hist(figsize=(12,8))"
   ]
  },
  {
   "cell_type": "code",
   "execution_count": null,
   "metadata": {
    "vscode": {
     "languageId": "plaintext"
    }
   },
   "outputs": [],
   "source": [
    "data[['Tablet Hardness (N)',\t'Tablet Height (mm)',\t'Tablet Friability (%)']].hist(figsize=(12, 8), color='g')"
   ]
  },
  {
   "cell_type": "code",
   "execution_count": null,
   "metadata": {
    "vscode": {
     "languageId": "plaintext"
    }
   },
   "outputs": [],
   "source": [
    "X = data[['Press Force (kg)', 'Motor Speed (tablets/min)', 'Particle Size (μm)']]\n",
    "y = data[['Tablet Hardness (N)', 'Tablet Height (mm)', 'Tablet Friability (%)']]"
   ]
  },
  {
   "cell_type": "code",
   "execution_count": null,
   "metadata": {
    "vscode": {
     "languageId": "plaintext"
    }
   },
   "outputs": [],
   "source": [
    "# Splitting the dataset into training and validation\n",
    "X_train, X_test, y_train, y_test = train_test_split(X, y, test_size=0.2, random_state=42)"
   ]
  },
  {
   "cell_type": "code",
   "execution_count": null,
   "metadata": {
    "vscode": {
     "languageId": "plaintext"
    }
   },
   "outputs": [],
   "source": [
    "# Scaling the dataset\n",
    "scaler = StandardScaler()\n",
    "X_train_scaled = scaler.fit_transform(X_train)\n",
    "\n",
    "X_test_scaled = scaler.transform(X_test)"
   ]
  },
  {
   "cell_type": "code",
   "execution_count": null,
   "metadata": {
    "vscode": {
     "languageId": "plaintext"
    }
   },
   "outputs": [],
   "source": [
    "# Multi Output Regressor\n",
    "model = MultiOutputRegressor(RandomForestRegressor(n_estimators=100, random_state=42))\n",
    "model.fit(X_train_scaled, y_train)"
   ]
  },
  {
   "cell_type": "code",
   "execution_count": null,
   "metadata": {
    "vscode": {
     "languageId": "plaintext"
    }
   },
   "outputs": [],
   "source": [
    "y_pred = model.predict(X_test_scaled)\n",
    "\n",
    "rmse = root_mean_squared_error(y_test, y_pred)\n",
    "r2 = r2_score(y_test, y_pred)\n",
    "\n",
    "print('RMSE:', rmse)\n",
    "print('R2:', r2)"
   ]
  },
  {
   "cell_type": "code",
   "execution_count": null,
   "metadata": {
    "vscode": {
     "languageId": "plaintext"
    }
   },
   "outputs": [],
   "source": [
    "# Plotting Tablet Hardness (N)\n",
    "sample = 'Tablet Hardness (N)'\n",
    "test_sample = y_test[sample]\n",
    "plt.figure(figsize=(10,6))\n",
    "plt.scatter(test_sample, y_pred[:, 0])\n",
    "\n",
    "plt.xlabel(f'Actual {sample}')\n",
    "plt.ylabel(f'Predicted {sample}')\n",
    "plt.title(f'Actual vs Predicted {sample}')\n",
    "\n",
    "# Making custom grid for the plot\n",
    "xy = np.arange(52, 102, 2)\n",
    "plt.xticks(xy)\n",
    "plt.yticks(xy)\n",
    "plt.grid()"
   ]
  },
  {
   "cell_type": "code",
   "execution_count": null,
   "metadata": {
    "vscode": {
     "languageId": "plaintext"
    }
   },
   "outputs": [],
   "source": [
    "# Tablet height\n",
    "sample = 'Tablet Height (mm)'\n",
    "test_sample = y_test[sample]\n",
    "plt.figure(figsize=(10,6))\n",
    "plt.scatter(test_sample, y_pred[:, 1])\n",
    "\n",
    "plt.xlabel(f'Actual {sample}')\n",
    "plt.ylabel(f'Predicted {sample}')\n",
    "plt.title(f'Actual vs Predicted {sample}')\n",
    "plt.legend()\n",
    "\n",
    "# Making custom grid for the plot\n",
    "xy = np.arange(4.4, 6.2, 0.1)\n",
    "plt.xticks(xy)\n",
    "plt.yticks(xy)\n",
    "plt.grid()"
   ]
  },
  {
   "cell_type": "code",
   "execution_count": null,
   "metadata": {
    "vscode": {
     "languageId": "plaintext"
    }
   },
   "outputs": [],
   "source": [
    "# Plotting Tablet Friability (%)\n",
    "sample = 'Tablet Friability (%)'\n",
    "test_sample = y_test[sample]\n",
    "plt.scatter(test_sample, y_pred[:, 2])\n",
    "\n",
    "plt.xlabel(f'Actual {sample}')\n",
    "plt.ylabel(f'Predicted {sample}')\n",
    "plt.title(f'Actual vs Predicted {sample}')\n",
    "\n",
    "# Making custom grid for the plot\n",
    "xy = np.arange(0.1, 0.5, 0.05)\n",
    "plt.xticks(xy)\n",
    "plt.yticks(xy)\n",
    "plt.grid()"
   ]
  }
 ],
 "metadata": {
  "language_info": {
   "name": "python"
  }
 },
 "nbformat": 4,
 "nbformat_minor": 2
}
